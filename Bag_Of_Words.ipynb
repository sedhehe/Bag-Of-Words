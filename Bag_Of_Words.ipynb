{
  "nbformat": 4,
  "nbformat_minor": 0,
  "metadata": {
    "colab": {
      "provenance": []
    },
    "kernelspec": {
      "name": "python3",
      "display_name": "Python 3"
    },
    "language_info": {
      "name": "python"
    }
  },
  "cells": [
    {
      "cell_type": "code",
      "execution_count": null,
      "metadata": {
        "id": "vZEWTrbD_Cff"
      },
      "outputs": [],
      "source": [
        "from sklearn.feature_extraction.text import CountVectorizer"
      ]
    },
    {
      "cell_type": "code",
      "source": [
        "vectorizer = CountVectorizer()\n",
        "user_input = input(\"Enter a document: \")\n",
        "documents = [user_input]"
      ],
      "metadata": {
        "id": "BTI8S9Y0AGGI"
      },
      "execution_count": null,
      "outputs": []
    },
    {
      "cell_type": "code",
      "source": [
        "X = vectorizer.fit_transform(documents)\n",
        "feature_names = vectorizer.get_feature_names_out()\n",
        "dense_array = X.toarray()"
      ],
      "metadata": {
        "id": "uCScPL6cAILY"
      },
      "execution_count": null,
      "outputs": []
    },
    {
      "cell_type": "code",
      "source": [
        "print(\"Feature Names:\", feature_names)\n",
        "print(\"BoW Model:\")\n",
        "print(dense_array)"
      ],
      "metadata": {
        "id": "mgUgXF00AJsX"
      },
      "execution_count": null,
      "outputs": []
    }
  ]
}